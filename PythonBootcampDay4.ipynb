{
  "nbformat": 4,
  "nbformat_minor": 0,
  "metadata": {
    "colab": {
      "name": "PythonBootcampDay4.ipynb",
      "provenance": [],
      "collapsed_sections": [],
      "authorship_tag": "ABX9TyMXxdsb3PY+PckqHCkQl5db",
      "include_colab_link": true
    },
    "kernelspec": {
      "name": "python3",
      "display_name": "Python 3"
    },
    "language_info": {
      "name": "python"
    }
  },
  "cells": [
    {
      "cell_type": "markdown",
      "metadata": {
        "id": "view-in-github",
        "colab_type": "text"
      },
      "source": [
        "<a href=\"https://colab.research.google.com/github/blessingaliu/pythonNotes/blob/main/PythonBootcampDay4.ipynb\" target=\"_parent\"><img src=\"https://colab.research.google.com/assets/colab-badge.svg\" alt=\"Open In Colab\"/></a>"
      ]
    },
    {
      "cell_type": "markdown",
      "source": [
        "Quiz for topics conditional statements, for loops and functions "
      ],
      "metadata": {
        "id": "OTLNh7Q3ONSH"
      }
    },
    {
      "cell_type": "code",
      "source": [
        "# Create a program that takes in two numbers and then outputs the average of the two numbers(use list unpacking).\n",
        "\n",
        "number_1, number_2 = [10, 40]\n",
        "print((number_1 + number_2)/2)\n"
      ],
      "metadata": {
        "id": "RkFbznAt9Lwq"
      },
      "execution_count": null,
      "outputs": []
    },
    {
      "cell_type": "code",
      "source": [
        "# TODO: Modify this line so it prints the last three elements of the list\n",
        "\n",
        "eclipse_dates = ['June 21, 2001', 'December 4, 2002', 'November 23, 2003',\n",
        "                 'March 29, 2006', 'August 1, 2008', 'July 22, 2009',\n",
        "                 'July 11, 2010', 'November 13, 2012', 'March 20, 2015',\n",
        "                 'March 9, 2016']\n",
        "\n",
        "print(eclipse_dates[7:])\n",
        "                 \n"
      ],
      "metadata": {
        "id": "Jb8t_AhM9SGI"
      },
      "execution_count": null,
      "outputs": []
    },
    {
      "cell_type": "code",
      "source": [
        "# Write a program to allow a user print the number of days in any month of the calendar year\n",
        "# (b) Calculate the number of days in each quarter(slicing)\n",
        "# (c)Use functions to make our code more reusable\n",
        "\n",
        "# NB: days_in_month = [31,28,31,30,31,30,31,31,30,31,30,31]\n",
        "# use list indexing to determine the number of days in month\n",
        "\n",
        "days_in_month = [31,28,31,30,31,30,31,31,30,31,30,31]\n",
        "quarter_1 = days_in_month[0:3]\n",
        "quarter_2 = days_in_month[3:6]\n",
        "quarter_3 = days_in_month[6:9]\n",
        "quarter_4 = days_in_month[9: ]\n",
        "\n",
        "month_1, month_2, month_3 = quarter_1\n",
        "month_4, month_5, month_6 = quarter_2\n",
        "month_7, month_8, month_9 = quarter_3\n",
        "month_10, month_11, month_12 = quarter_4\n",
        "\n",
        "print(month_1 + month_2 + month_3)\n",
        "print(month_4 + month_5 + month_6)\n",
        "print(month_7 + month_8 + month_9)\n",
        "print(month_10 + month_11 + month_12)\n",
        "\n"
      ],
      "metadata": {
        "id": "vianevqy9WR1"
      },
      "execution_count": null,
      "outputs": []
    },
    {
      "cell_type": "code",
      "execution_count": null,
      "metadata": {
        "id": "7gzjUiHyvJ-V"
      },
      "outputs": [],
      "source": [
        "# Create variables called bank_balance = 10 and access_code = “niyo”, or set to whatever you like.\n",
        "# Create a program that asks the user to input price of product and access code, \n",
        "# and prints ‘Card declined’ if the bank_balance is less than price of product OR the access_code is not equal to “niyo”\n",
        "# otherwise program prints “Payment Accepted”\n",
        "\n",
        "bank_balance = 10\n",
        "access_code = \"niyo\"\n",
        "\n",
        "user_input_price = int(input(\"Enter the price of product: \"))\n",
        "user_input_access_code = input(\"Enter the access code: \")\n",
        "\n",
        "if bank_balance < user_input_price:\n",
        "  print(\"Card declined\")\n",
        "elif user_input_access_code != \"niyo\":\n",
        "  print(\"Card declined\")\n",
        "else:\n",
        "  print(\"Payment Accepted\")\n"
      ]
    },
    {
      "cell_type": "code",
      "source": [
        "# Create a sequence of numbers from 0 to 10, and print each item in the sequence:\n",
        "numbers = [0, 1, 2, 3, 4, 5, 6, 7, 8, 9, 10]\n",
        "for x in numbers:\n",
        "  print(x)\n"
      ],
      "metadata": {
        "id": "iT28hL-f7487"
      },
      "execution_count": null,
      "outputs": []
    },
    {
      "cell_type": "code",
      "source": [
        "# Write a program that will print ‘A’, then ‘B’, then it will \n",
        "# alternate C's and D's five times and then finish with the letter E once.\n",
        "\n",
        "letters = [\"A\", \"B\", \"C\", \"D\", \"C\", \"D\", \"C\", \"D\", \"C\", \"D\", \"C\", \"D\", \"E\"]\n",
        "for x in letters:\n",
        "  print(x)"
      ],
      "metadata": {
        "id": "Eo9gpfNK772m"
      },
      "execution_count": null,
      "outputs": []
    },
    {
      "cell_type": "code",
      "source": [
        "# Write a program that will print ‘A’, then ‘B’, then it will \n",
        "# alternate C's and D's five times and then finish with the letter E once.\n",
        "\n",
        "print(\"A\")\n",
        "print(\"B\")\n",
        "for i in range(5):\n",
        "  print(\"C\")\n",
        "  print(\"D\")\n",
        "print(\"E\")"
      ],
      "metadata": {
        "id": "5uGB_csFEd1R"
      },
      "execution_count": null,
      "outputs": []
    },
    {
      "cell_type": "code",
      "source": [
        "# A lot of cell phones have tip calculators. Write one. \n",
        "# Ask the user for the price of the meal and the percent tip they want to leave. \n",
        "# Then print both the tip amount and the total bill with the tip included.\n",
        "\n",
        "meal_price = int(input(\"Enter the price of the meal: \"))\n",
        "percent_tip = int(input(\"Enter the percent tip you want to leave: \"))\n",
        "tip_amount_calc = ((percent_tip/100) * meal_price)\n",
        "total_bill = meal_price + tip_amount_calc\n",
        "print(total_bill)"
      ],
      "metadata": {
        "id": "s0uO1usl8AhK"
      },
      "execution_count": null,
      "outputs": []
    },
    {
      "cell_type": "code",
      "source": [
        "# Create a list of names. Print out the length of the list. \n",
        "# Create an if statement that prints “Access granted” if your name variable is inside the list\n",
        "\n",
        "# Extension: If name is inside list, check that Age is above 21. If Age is above 21, print access granted.\n",
        "\n",
        "names = [\"Blessing\", \"Janet\", \"Joseph\"]\n",
        "print(len(names))\n",
        "\n",
        "if \"Blessing\" in names: \n",
        "  print(\"Access granted\")\n",
        "else:\n",
        "  print(\"Access denied\")\n"
      ],
      "metadata": {
        "id": "wkYNf3_A8N8r"
      },
      "execution_count": null,
      "outputs": []
    },
    {
      "cell_type": "code",
      "source": [
        "# Write a program that stores your name as a variable.\n",
        "# Write an ‘if statement’ that prints ‘access denied’ if your name variable does not equal ‘John’.\n",
        "# If the name variable equals ‘John’, then the program should print ‘Welcome John. How are you?’\n",
        "\n",
        "user_name = input(\"Enter your name: \")\n",
        "if user_name != \"John\":\n",
        "  print(\"access denied\")\n",
        "else:\n",
        "  print(\"Welcome John\")\n",
        "\n"
      ],
      "metadata": {
        "id": "eC2oqGSV8Ve9"
      },
      "execution_count": null,
      "outputs": []
    },
    {
      "cell_type": "code",
      "source": [
        "# Write a program that uses exactly four for loops to print the sequence of letters below: \n",
        "# AAAAAAAAAABBBBBBBCDCDCDCDEFFFFFFG\n",
        "\n",
        "for i in range(10):\n",
        "  print(\"A\", end=\"\")\n",
        "for i in range(7):\n",
        "  print(\"B\", end=\"\")\n",
        "for i in range(4):\n",
        "  print(\"CD\", end=\"\")\n",
        "print(\"E\", end=\"\")\n",
        "for i in range(6):\n",
        "  print(\"F\", end=\"\")\n",
        "print(\"G\", end=\"\")"
      ],
      "metadata": {
        "id": "ssQwzMmM8cNG"
      },
      "execution_count": null,
      "outputs": []
    },
    {
      "cell_type": "code",
      "source": [
        "# Write a program that asks the user to enter a number \n",
        "# and then prints out the letter ‘A’ that many times, all on the same line.\n",
        "\n",
        "enter_number = int(input(\"Enter number: \"))\n",
        "for i in range(enter_number):\n",
        "  print(\"A\", end=\"\")"
      ],
      "metadata": {
        "id": "vJ63xXEA8iEj"
      },
      "execution_count": null,
      "outputs": []
    },
    {
      "cell_type": "code",
      "source": [
        "# Write a function that takes in a number as an arguments and converts it from miles to km.\n",
        "\n",
        "def convert_distance(miles):\n",
        "    km = miles * 1.6  # approximately 1.6 km in 1 mile\n",
        "    return(str(km * 2))\n",
        "convert_distance(55)"
      ],
      "metadata": {
        "id": "cqNSmPA1833A"
      },
      "execution_count": null,
      "outputs": []
    },
    {
      "cell_type": "code",
      "source": [
        "# Write a guess-a-number program. \n",
        "# Create a variable called ‘correct number’. Let the player guess a number.\n",
        "# The program should tell them if they are correct. \n",
        "\n",
        "correct_number = 30\n",
        "guessed_number = int(input(\"Enter a number: \"))\n",
        "if correct_number ==  guessed_number:\n",
        "  print(\"Well done! You are correct\")\n",
        "else:\n",
        "  print(\"Please try again!\")"
      ],
      "metadata": {
        "id": "aglchS7L89Uv"
      },
      "execution_count": null,
      "outputs": []
    },
    {
      "cell_type": "code",
      "source": [
        "# Write a function that stutters a word as if someone is struggling to read it. \n",
        "# The first two letters are repeated twice with an ellipsis ... and \n",
        "# space after each, and then the word is pronounced with a question mark ?.\n",
        "\n",
        "# Examples\n",
        "# stutter(\"incredible\") ➞ \"in... in... incredible?\"\n",
        "\n",
        "# stutter(\"enthusiastic\") ➞ \"en... en... enthusiastic?\"\n",
        "\n",
        "# stutter(\"outstanding\") ➞ \"ou... ou... outstanding?\"\n",
        "\n",
        "def stutter(word):\n",
        "    s = word[:2]\n",
        "    return (2 * (s + '... ')) + word + '?'\n",
        "\n",
        "\n",
        "print(stutter(\"incredible\"))\n"
      ],
      "metadata": {
        "id": "MKw2J3bR9B_r"
      },
      "execution_count": null,
      "outputs": []
    }
  ]
}