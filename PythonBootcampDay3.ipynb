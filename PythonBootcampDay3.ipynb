{
  "nbformat": 4,
  "nbformat_minor": 0,
  "metadata": {
    "colab": {
      "name": "PythonBootcampDay3.ipynb",
      "provenance": [],
      "collapsed_sections": [],
      "authorship_tag": "ABX9TyMIwvoE+cDi6hZkUH8kGlC0",
      "include_colab_link": true
    },
    "kernelspec": {
      "name": "python3",
      "display_name": "Python 3"
    },
    "language_info": {
      "name": "python"
    }
  },
  "cells": [
    {
      "cell_type": "markdown",
      "metadata": {
        "id": "view-in-github",
        "colab_type": "text"
      },
      "source": [
        "<a href=\"https://colab.research.google.com/github/blessingaliu/pythonNotes/blob/main/PythonBootcampDay3.ipynb\" target=\"_parent\"><img src=\"https://colab.research.google.com/assets/colab-badge.svg\" alt=\"Open In Colab\"/></a>"
      ]
    },
    {
      "cell_type": "markdown",
      "source": [
        "This is Python Bootcamp Day 3:\n",
        "\n",
        "Fundamentals of Python with Lists, Tuples and Sets"
      ],
      "metadata": {
        "id": "fhvmD5B2Rw6W"
      }
    },
    {
      "cell_type": "code",
      "execution_count": null,
      "metadata": {
        "colab": {
          "base_uri": "https://localhost:8080/"
        },
        "id": "fz39NrInz-tk",
        "outputId": "a3c97165-3658-482c-fa85-30d038d85dfc"
      },
      "outputs": [
        {
          "output_type": "stream",
          "name": "stdout",
          "text": [
            "1\n",
            "2\n",
            "1.5\n"
          ]
        }
      ],
      "source": [
        "# Create a program that takes in two numbers and then outputs the average of the two numbers (use list unpacking)\n",
        "number_1, number_2 = [1, 2]\n",
        "print(number_1)\n",
        "print(number_2)\n",
        "\n",
        "print ((number_1 + number_2)/2)\n",
        "\n"
      ]
    },
    {
      "cell_type": "code",
      "source": [
        "eclipse_dates = ['June 21, 2001', 'December 4, 2002', 'November 23, 2003',\n",
        "                 'March 29, 2006', 'August 1, 2008', 'July 22, 2009',\n",
        "                 'July 11, 2010', 'November 13, 2012', 'March 20, 2015',\n",
        "                 'March 9, 2016']\n",
        "\n",
        "# Modify this line so it prints the last three elements of the list\n",
        "\n",
        "eclipse_dates[7:]"
      ],
      "metadata": {
        "colab": {
          "base_uri": "https://localhost:8080/"
        },
        "id": "TDEAk7gr8x_9",
        "outputId": "0ff22799-f9e1-4e22-8f4c-c58a58cf9d66"
      },
      "execution_count": null,
      "outputs": [
        {
          "output_type": "execute_result",
          "data": {
            "text/plain": [
              "['November 13, 2012', 'March 20, 2015', 'March 9, 2016']"
            ]
          },
          "metadata": {},
          "execution_count": 8
        }
      ]
    },
    {
      "cell_type": "code",
      "source": [
        "# Write a program to allow a user print the number of days in any month of the calendar year\n",
        "# Calculate the number of days in each quarter (slicing)\n",
        "# Use functions to make our code more reusable\n",
        "\n",
        "days_in_month = [31,28,31,30,31,30,31,31,30,31,30,31]\n",
        "quarter_1 = days_in_month[0:3]\n",
        "quarter_2 = days_in_month[3:6]\n",
        "quarter_3 = days_in_month[6:9]\n",
        "quarter_4 = days_in_month[9:12]\n",
        "\n",
        "total_q1 = sum(quarter_1)\n",
        "total_q2 = sum(quarter_2)\n",
        "total_q3 = sum(quarter_3)\n",
        "total_q4 = sum(quarter_4)\n",
        "\n",
        "print(total_q1)\n",
        "print(total_q2)\n",
        "print(total_q3)\n",
        "print(total_q4)"
      ],
      "metadata": {
        "colab": {
          "base_uri": "https://localhost:8080/"
        },
        "id": "sHPAyLTh-luF",
        "outputId": "6fc9746f-0ac3-48ac-c4e7-b47d66c95a91"
      },
      "execution_count": null,
      "outputs": [
        {
          "output_type": "stream",
          "name": "stdout",
          "text": [
            "90\n",
            "91\n",
            "92\n",
            "92\n"
          ]
        }
      ]
    },
    {
      "cell_type": "code",
      "source": [
        "# Write a program to allow a user print the number of days in any month of the calendar year\n",
        "# Calculate the number of days in each quarter (slicing)\n",
        "# Use functions to make our code more reusable\n",
        "\n",
        "days_in_month = [31,28,31,30,31,30,31,31,30,31,30,31]\n",
        "quarter_1 = days_in_month[0:3]\n",
        "quarter_2 = days_in_month[3:6]\n",
        "quarter_3 = days_in_month[6:9]\n",
        "quarter_4 = days_in_month[9:12]\n",
        "\n",
        "month_1, month_2, month_3 = quarter_1\n",
        "month_4, month_5, month_6 = quarter_2\n",
        "month_7, month_8, month_9 = quarter_3\n",
        "month_10, month_11, month_12 = quarter_4\n",
        "\n",
        "print(month_1 + month_2 + month_3)\n",
        "print(month_4 + month_5 + month_6)\n",
        "print(month_7 + month_8 + month_9)\n",
        "print(month_10 + month_11 + month_12)\n"
      ],
      "metadata": {
        "colab": {
          "base_uri": "https://localhost:8080/"
        },
        "id": "B3gT3-9eB6pV",
        "outputId": "473a0807-bec8-4a1f-8632-d82b4399041c"
      },
      "execution_count": null,
      "outputs": [
        {
          "output_type": "stream",
          "name": "stdout",
          "text": [
            "90\n",
            "91\n",
            "92\n",
            "92\n"
          ]
        }
      ]
    },
    {
      "cell_type": "code",
      "source": [
        "# Use functions to make our code more reusable\n",
        "\n",
        "days_in_month = [31,28,31,30,31,30,31,31,30,31,30,31]\n",
        "\n",
        "def print_sum_of_quarter(days_in_month):\n",
        "  quarter_1 = days_in_month[0:3]\n",
        "  quarter_2 = days_in_month[3:6]\n",
        "  quarter_3 = days_in_month[6:9]\n",
        "  quarter_4 = days_in_month[9:12]\n",
        "\n"
      ],
      "metadata": {
        "id": "1TPG7gcqE-qC"
      },
      "execution_count": null,
      "outputs": []
    },
    {
      "cell_type": "code",
      "source": [
        "# Sets and their methods \n",
        "names = {\"Blessing\", \"Blessing\", \"Joel\", \"Annie\"}\n",
        "names"
      ],
      "metadata": {
        "colab": {
          "base_uri": "https://localhost:8080/"
        },
        "id": "AURS4-mjKguD",
        "outputId": "6fc42ad4-70b8-4c8b-994d-16241f9bd2de"
      },
      "execution_count": null,
      "outputs": [
        {
          "output_type": "execute_result",
          "data": {
            "text/plain": [
              "{'Annie', 'Blessing', 'Joel'}"
            ]
          },
          "metadata": {},
          "execution_count": 34
        }
      ]
    },
    {
      "cell_type": "code",
      "source": [
        "len(names)"
      ],
      "metadata": {
        "colab": {
          "base_uri": "https://localhost:8080/"
        },
        "id": "aPFpen3BKwHm",
        "outputId": "b4d59592-9c51-4d0f-c1b2-2fb88a78b2f1"
      },
      "execution_count": null,
      "outputs": [
        {
          "output_type": "execute_result",
          "data": {
            "text/plain": [
              "3"
            ]
          },
          "metadata": {},
          "execution_count": 37
        }
      ]
    },
    {
      "cell_type": "code",
      "source": [
        "names.add('Sharon')\n",
        "names"
      ],
      "metadata": {
        "colab": {
          "base_uri": "https://localhost:8080/"
        },
        "id": "-ocCibk2LEKp",
        "outputId": "ebd416bd-c40b-4872-b29b-b3beae6a7434"
      },
      "execution_count": null,
      "outputs": [
        {
          "output_type": "execute_result",
          "data": {
            "text/plain": [
              "{'Annie', 'Blessing', 'Joel', 'Sharon'}"
            ]
          },
          "metadata": {},
          "execution_count": 39
        }
      ]
    },
    {
      "cell_type": "code",
      "source": [
        "names.remove('Annie')\n",
        "names"
      ],
      "metadata": {
        "colab": {
          "base_uri": "https://localhost:8080/"
        },
        "id": "VB3XT1y7LjiD",
        "outputId": "3658b4bd-9208-4ead-c60b-1b4679ef8d4b"
      },
      "execution_count": null,
      "outputs": [
        {
          "output_type": "execute_result",
          "data": {
            "text/plain": [
              "{'Blessing', 'Joel', 'Sharon'}"
            ]
          },
          "metadata": {},
          "execution_count": 40
        }
      ]
    },
    {
      "cell_type": "code",
      "source": [
        "countries = {\"Nigeria\", \"Ghana\", \"UK\", \"US\"}\n",
        "names.union(countries)"
      ],
      "metadata": {
        "colab": {
          "base_uri": "https://localhost:8080/"
        },
        "id": "rJ-a6mfmLtBm",
        "outputId": "19270d7e-9325-48be-92f8-3dca42f96a1b"
      },
      "execution_count": null,
      "outputs": [
        {
          "output_type": "execute_result",
          "data": {
            "text/plain": [
              "{'Blessing', 'Ghana', 'Joel', 'Nigeria', 'Sharon', 'UK', 'US'}"
            ]
          },
          "metadata": {},
          "execution_count": 42
        }
      ]
    },
    {
      "cell_type": "code",
      "source": [
        "names = {\"Blessing\", \"Ghana\", \"Joel\", \"Nigeria\"}\n",
        "names_2 = {\"Nigeria\", \"Ghana\", \"UK\", \"US\"}\n",
        "names.intersection_update(names_2)\n",
        "names"
      ],
      "metadata": {
        "colab": {
          "base_uri": "https://localhost:8080/"
        },
        "id": "_Eup20VGNf0B",
        "outputId": "e733ba1f-5306-4b3a-a053-83bfb3fa2158"
      },
      "execution_count": null,
      "outputs": [
        {
          "output_type": "execute_result",
          "data": {
            "text/plain": [
              "{'Ghana', 'Nigeria'}"
            ]
          },
          "metadata": {},
          "execution_count": 54
        }
      ]
    },
    {
      "cell_type": "code",
      "source": [
        "names.pop()"
      ],
      "metadata": {
        "colab": {
          "base_uri": "https://localhost:8080/",
          "height": 35
        },
        "id": "kEaAh3-2POPX",
        "outputId": "5bdd593a-14ee-411e-a839-cc37405a6f01"
      },
      "execution_count": null,
      "outputs": [
        {
          "output_type": "execute_result",
          "data": {
            "text/plain": [
              "'Nigeria'"
            ],
            "application/vnd.google.colaboratory.intrinsic+json": {
              "type": "string"
            }
          },
          "metadata": {},
          "execution_count": 55
        }
      ]
    },
    {
      "cell_type": "code",
      "source": [
        "# lists are indexed so they can have items with the same value\n",
        "my_list = [\"jollof_rice\", \"asaro\", \"jollof_rice\", \"chicken\", \"plantain\"]\n",
        "print(my_list)"
      ],
      "metadata": {
        "colab": {
          "base_uri": "https://localhost:8080/"
        },
        "id": "iyKQxP0ob8Cq",
        "outputId": "554229d5-368d-4ed7-f1c8-f5afc91d45b5"
      },
      "execution_count": null,
      "outputs": [
        {
          "output_type": "stream",
          "name": "stdout",
          "text": [
            "['jollof_rice', 'asaro', 'jollof_rice', 'chicken', 'plantain']\n"
          ]
        }
      ]
    },
    {
      "cell_type": "code",
      "source": [
        "# len() to see how many items a list has\n",
        "len(my_list)"
      ],
      "metadata": {
        "colab": {
          "base_uri": "https://localhost:8080/"
        },
        "id": "vOBXR-WacM-r",
        "outputId": "617f5593-f1ff-499d-910e-b71a8416ecbf"
      },
      "execution_count": null,
      "outputs": [
        {
          "output_type": "execute_result",
          "data": {
            "text/plain": [
              "4"
            ]
          },
          "metadata": {},
          "execution_count": 61
        }
      ]
    },
    {
      "cell_type": "code",
      "source": [
        "# Checking the data type\n",
        "type(my_list)"
      ],
      "metadata": {
        "colab": {
          "base_uri": "https://localhost:8080/"
        },
        "id": "dmG05tmeca7w",
        "outputId": "62b23e2f-0c0e-4324-e3c8-3d55f3a16028"
      },
      "execution_count": null,
      "outputs": [
        {
          "output_type": "execute_result",
          "data": {
            "text/plain": [
              "list"
            ]
          },
          "metadata": {},
          "execution_count": 63
        }
      ]
    },
    {
      "cell_type": "code",
      "source": [
        "# Accessing list items \n",
        "my_list = [\"jollof_rice\", \"asaro\", \"jollof_rice\", \"chicken\", \"plantain\"]\n",
        "my_list[1], my_list[-1], \n"
      ],
      "metadata": {
        "colab": {
          "base_uri": "https://localhost:8080/"
        },
        "id": "ET3zVJnoczZM",
        "outputId": "30648b2a-5641-4a4f-9da3-eeaa93ee44a1"
      },
      "execution_count": null,
      "outputs": [
        {
          "output_type": "execute_result",
          "data": {
            "text/plain": [
              "('asaro', 'plantain')"
            ]
          },
          "metadata": {},
          "execution_count": 67
        }
      ]
    },
    {
      "cell_type": "code",
      "source": [
        "# List slicing and dicing \n",
        "# my_list = [start:end:stepsize]\n",
        "countries = [\"Nigeria\", \"Ghana\", \"UK\", \"US\"]\n",
        "countries[1:3]"
      ],
      "metadata": {
        "colab": {
          "base_uri": "https://localhost:8080/"
        },
        "id": "JqHO-4RydeWy",
        "outputId": "91557094-7844-4536-d962-558c334b611e"
      },
      "execution_count": null,
      "outputs": [
        {
          "output_type": "execute_result",
          "data": {
            "text/plain": [
              "['Ghana', 'UK']"
            ]
          },
          "metadata": {},
          "execution_count": 72
        }
      ]
    },
    {
      "cell_type": "code",
      "source": [
        "# Check if item is present in list\n",
        "my_list = [\"jollof_rice\", \"asaro\", \"jollof_rice\", \"chicken\", \"plantain\"]\n",
        "if \"chicken\" in my_list:\n",
        "  print(\"Yes, chicken is in this list\")"
      ],
      "metadata": {
        "colab": {
          "base_uri": "https://localhost:8080/"
        },
        "id": "uDW7jcg3fsKq",
        "outputId": "a646b0b8-94c4-4e37-bb14-6557d6f88d52"
      },
      "execution_count": null,
      "outputs": [
        {
          "output_type": "stream",
          "name": "stdout",
          "text": [
            "Yes, chicken is in this list\n"
          ]
        }
      ]
    },
    {
      "cell_type": "code",
      "source": [
        "# Remove item from list\n",
        "another_list = [\"dresses\", \"skirts\", \"trousers\", \"shoes\"]\n",
        "another_list.remove(\"shoes\")\n",
        "print(another_list)"
      ],
      "metadata": {
        "colab": {
          "base_uri": "https://localhost:8080/"
        },
        "id": "pwzyyWCzD9ze",
        "outputId": "6779fb98-92f9-499e-fa7f-af18ab3106c2"
      },
      "execution_count": null,
      "outputs": [
        {
          "output_type": "stream",
          "name": "stdout",
          "text": [
            "['dresses', 'skirts', 'trousers']\n"
          ]
        }
      ]
    },
    {
      "cell_type": "code",
      "source": [
        "# Remove item from list at a specified index\n",
        "another_list.pop(1)\n",
        "print(another_list)"
      ],
      "metadata": {
        "colab": {
          "base_uri": "https://localhost:8080/"
        },
        "id": "ZIdrKPPZEY4g",
        "outputId": "5e266448-ea6d-403e-9153-0d26ce5bab17"
      },
      "execution_count": null,
      "outputs": [
        {
          "output_type": "stream",
          "name": "stdout",
          "text": [
            "['dresses', 'trousers']\n"
          ]
        }
      ]
    },
    {
      "cell_type": "code",
      "source": [
        "# If index is not specified then remove it from the last index\n",
        "another_list.pop()\n",
        "print(another_list)"
      ],
      "metadata": {
        "colab": {
          "base_uri": "https://localhost:8080/"
        },
        "id": "Hn6Kbm_2GkG5",
        "outputId": "c7aeaf4d-f5b6-4472-87ad-dd840ebdaac1"
      },
      "execution_count": null,
      "outputs": [
        {
          "output_type": "stream",
          "name": "stdout",
          "text": [
            "['dresses']\n"
          ]
        }
      ]
    },
    {
      "cell_type": "code",
      "source": [
        "# Delete item using del\n",
        "another_list = [\"dresses\", \"skirts\", \"trousers\", \"shoes\"]\n",
        "del another_list[0]\n",
        "print(another_list)"
      ],
      "metadata": {
        "colab": {
          "base_uri": "https://localhost:8080/"
        },
        "id": "Z1ymJHaxG9ZP",
        "outputId": "4e7f7d7e-9993-4435-e5b7-ac9f4d9dfcc9"
      },
      "execution_count": null,
      "outputs": [
        {
          "output_type": "stream",
          "name": "stdout",
          "text": [
            "['skirts', 'trousers', 'shoes']\n"
          ]
        }
      ]
    },
    {
      "cell_type": "code",
      "source": [
        "# Deleting the enter list \n",
        "del another_list\n",
        "print(another_list)"
      ],
      "metadata": {
        "colab": {
          "base_uri": "https://localhost:8080/",
          "height": 186
        },
        "id": "MB-xYOn6Hi1U",
        "outputId": "2ea0ddef-4430-4574-a664-749ca73eba98"
      },
      "execution_count": null,
      "outputs": [
        {
          "output_type": "error",
          "ename": "NameError",
          "evalue": "ignored",
          "traceback": [
            "\u001b[0;31m---------------------------------------------------------------------------\u001b[0m",
            "\u001b[0;31mNameError\u001b[0m                                 Traceback (most recent call last)",
            "\u001b[0;32m<ipython-input-8-1310a20654cb>\u001b[0m in \u001b[0;36m<module>\u001b[0;34m()\u001b[0m\n\u001b[1;32m      1\u001b[0m \u001b[0;32mdel\u001b[0m \u001b[0manother_list\u001b[0m\u001b[0;34m\u001b[0m\u001b[0;34m\u001b[0m\u001b[0m\n\u001b[0;32m----> 2\u001b[0;31m \u001b[0mprint\u001b[0m\u001b[0;34m(\u001b[0m\u001b[0manother_list\u001b[0m\u001b[0;34m)\u001b[0m\u001b[0;34m\u001b[0m\u001b[0;34m\u001b[0m\u001b[0m\n\u001b[0m",
            "\u001b[0;31mNameError\u001b[0m: name 'another_list' is not defined"
          ]
        }
      ]
    },
    {
      "cell_type": "code",
      "source": [
        "# Sorting numerical items in ascending order using sort\n",
        "age = [12, 4, 5, 2, 5]\n",
        "age.sort()\n",
        "print(age)"
      ],
      "metadata": {
        "colab": {
          "base_uri": "https://localhost:8080/"
        },
        "id": "3gThnHK5KA5D",
        "outputId": "aa003d79-599b-4e33-fe85-43c8f02ff5ca"
      },
      "execution_count": null,
      "outputs": [
        {
          "output_type": "stream",
          "name": "stdout",
          "text": [
            "[2, 4, 5, 5, 12]\n"
          ]
        }
      ]
    },
    {
      "cell_type": "code",
      "source": [
        "# Sorting items using sort\n",
        "names = [\"Johnny\", \"Becky\", \"Amanda\", \"Zion\"]\n",
        "names.sort()\n",
        "print(names)"
      ],
      "metadata": {
        "colab": {
          "base_uri": "https://localhost:8080/"
        },
        "id": "0jA8GqncLK9g",
        "outputId": "21f76887-447e-41a5-a298-49fd37c04aa9"
      },
      "execution_count": null,
      "outputs": [
        {
          "output_type": "stream",
          "name": "stdout",
          "text": [
            "['Amanda', 'Becky', 'Johnny', 'Zion']\n"
          ]
        }
      ]
    },
    {
      "cell_type": "code",
      "source": [
        "# Sorting numerical items in descending order using sort(reverse = True)\n",
        "age = [12, 4, 5, 2, 5]\n",
        "age.sort(reverse = True)\n",
        "print(age)"
      ],
      "metadata": {
        "colab": {
          "base_uri": "https://localhost:8080/"
        },
        "id": "4thiOJ5fLgdt",
        "outputId": "dc0333ce-a3e4-4176-e3d0-b9152da863d4"
      },
      "execution_count": null,
      "outputs": [
        {
          "output_type": "stream",
          "name": "stdout",
          "text": [
            "[12, 5, 5, 4, 2]\n"
          ]
        }
      ]
    },
    {
      "cell_type": "code",
      "source": [
        "# Copying list\n",
        "age = [12, 4, 5, 2, 5]\n",
        "new_ages = age.copy()\n",
        "print(new_ages)\n"
      ],
      "metadata": {
        "colab": {
          "base_uri": "https://localhost:8080/"
        },
        "id": "4_7KUm2NMMhX",
        "outputId": "3d8b45f4-887d-4301-8db8-41cb3861fc53"
      },
      "execution_count": null,
      "outputs": [
        {
          "output_type": "stream",
          "name": "stdout",
          "text": [
            "[12, 4, 5, 2, 5]\n"
          ]
        }
      ]
    },
    {
      "cell_type": "code",
      "source": [
        "# Copying list using list\n",
        "age = [12, 4, 5, 2, 5]\n",
        "another_age_list = list(age)\n",
        "print(another_age_list)"
      ],
      "metadata": {
        "colab": {
          "base_uri": "https://localhost:8080/"
        },
        "id": "etH4EBSOMhMi",
        "outputId": "0c1d8a90-54f7-422f-b852-72b1536b8df5"
      },
      "execution_count": null,
      "outputs": [
        {
          "output_type": "stream",
          "name": "stdout",
          "text": [
            "[12, 4, 5, 2, 5]\n"
          ]
        }
      ]
    },
    {
      "cell_type": "code",
      "source": [
        "# Adding two lists using +\n",
        "list1 = [\"a\", \"b\", \"c\"]\n",
        "list2 = [1, 2, 3]\n",
        "\n",
        "list3 = list1 + list2\n",
        "print(list3)"
      ],
      "metadata": {
        "id": "GKV-hW7HZy8B",
        "colab": {
          "base_uri": "https://localhost:8080/"
        },
        "outputId": "a024489d-f8c2-4e5c-ec0c-9ef6eee5bbb1"
      },
      "execution_count": 1,
      "outputs": [
        {
          "output_type": "stream",
          "name": "stdout",
          "text": [
            "['a', 'b', 'c', 1, 2, 3]\n"
          ]
        }
      ]
    },
    {
      "cell_type": "code",
      "source": [
        "# Adding two lists using extend\n",
        "list1 = [\"a\", \"b\" , \"c\"]\n",
        "list2 = [1, 2, 3]\n",
        "\n",
        "list1.extend(list2)\n",
        "print(list1)"
      ],
      "metadata": {
        "colab": {
          "base_uri": "https://localhost:8080/"
        },
        "id": "iwL8U5nHa1Xk",
        "outputId": "2715810f-a519-43c0-e131-d7bbc9a283d0"
      },
      "execution_count": null,
      "outputs": [
        {
          "output_type": "stream",
          "name": "stdout",
          "text": [
            "['a', 'b', 'c', 1, 2, 3]\n"
          ]
        }
      ]
    },
    {
      "cell_type": "code",
      "source": [
        "# Changing tuple to list to modify it and then back to a tuple\n",
        "thistuple = (\"apple\", \"banana\", \"cherry\")\n",
        "y = list(thistuple)\n",
        "y.append(\"orange\")\n",
        "thistuple = tuple(y)\n",
        "type(thistuple)"
      ],
      "metadata": {
        "colab": {
          "base_uri": "https://localhost:8080/"
        },
        "id": "w0njmv60fZzx",
        "outputId": "d7e7cde4-c348-4269-d974-794a9c6ebc7c"
      },
      "execution_count": null,
      "outputs": [
        {
          "output_type": "execute_result",
          "data": {
            "text/plain": [
              "tuple"
            ]
          },
          "metadata": {},
          "execution_count": 24
        }
      ]
    },
    {
      "cell_type": "code",
      "source": [
        "# Adding two tuples together\n",
        "thistuple = (\"apple\", \"banana\", \"cherry\")\n",
        "y = (\"orange\",)\n",
        "thistuple += y\n",
        "print(thistuple)"
      ],
      "metadata": {
        "colab": {
          "base_uri": "https://localhost:8080/"
        },
        "id": "vmXPlMzFgM3t",
        "outputId": "5431dd87-67ab-4908-c3ee-d1b0329c33af"
      },
      "execution_count": null,
      "outputs": [
        {
          "output_type": "stream",
          "name": "stdout",
          "text": [
            "('apple', 'banana', 'cherry', 'orange')\n"
          ]
        }
      ]
    },
    {
      "cell_type": "code",
      "source": [
        "# Packing and unpacking tuple\n",
        "new_tuple = ('kia', 'lexus', 3, True)\n",
        "car, another_car, number, boolean = new_tuple\n",
        "print(car)\n",
        "print(another_car)\n",
        "print(number)\n",
        "print(boolean)"
      ],
      "metadata": {
        "colab": {
          "base_uri": "https://localhost:8080/"
        },
        "id": "ESGjjOqhjDe7",
        "outputId": "a91e52e9-4587-4cdf-a541-8e7946a01b7f"
      },
      "execution_count": null,
      "outputs": [
        {
          "output_type": "stream",
          "name": "stdout",
          "text": [
            "kia\n",
            "lexus\n",
            "3\n",
            "True\n"
          ]
        }
      ]
    },
    {
      "cell_type": "code",
      "source": [
        "# Count for tuple\n",
        "my_tuple = (1, 0, 5, 8, 5, 3, 2, 4)\n",
        "number = my_tuple.count(5)\n",
        "print(number)"
      ],
      "metadata": {
        "colab": {
          "base_uri": "https://localhost:8080/"
        },
        "id": "GsO8fIFZkzkO",
        "outputId": "da52a9d0-e691-482b-d604-5a17b688b03e"
      },
      "execution_count": null,
      "outputs": [
        {
          "output_type": "stream",
          "name": "stdout",
          "text": [
            "2\n"
          ]
        }
      ]
    },
    {
      "cell_type": "code",
      "source": [
        "# Insert for tuple\n",
        "my_tuple = (1, 0, 5, 8, 5, 3, 2, 4)\n",
        "number = my_tuple.index(8)\n",
        "print(number)"
      ],
      "metadata": {
        "colab": {
          "base_uri": "https://localhost:8080/"
        },
        "id": "L4xscyHclkAY",
        "outputId": "f2b483e0-c256-4e23-8944-53fb25857f12"
      },
      "execution_count": null,
      "outputs": [
        {
          "output_type": "stream",
          "name": "stdout",
          "text": [
            "3\n"
          ]
        }
      ]
    },
    {
      "cell_type": "code",
      "source": [
        "# Checking if item is in tuple\n",
        "my_set = {\"jollof_rice\", \"asaro\", \"jollof_rice\", \"chicken\", \"plantain\"}\n",
        "for chicken in my_set:\n",
        "  print(chicken)"
      ],
      "metadata": {
        "id": "xKn8rThxoCc0",
        "outputId": "ccb2f6b7-36c1-41ad-d9a2-abd30d3040e3",
        "colab": {
          "base_uri": "https://localhost:8080/"
        }
      },
      "execution_count": null,
      "outputs": [
        {
          "output_type": "stream",
          "name": "stdout",
          "text": [
            "jollof_rice\n",
            "plantain\n",
            "chicken\n",
            "asaro\n"
          ]
        }
      ]
    }
  ]
}