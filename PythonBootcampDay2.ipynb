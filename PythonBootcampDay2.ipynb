{
  "nbformat": 4,
  "nbformat_minor": 0,
  "metadata": {
    "colab": {
      "name": "PythonBootcampDay2.ipynb",
      "provenance": [],
      "collapsed_sections": [],
      "authorship_tag": "ABX9TyMyxokZE5omGA7goxpKDLSl",
      "include_colab_link": true
    },
    "kernelspec": {
      "name": "python3",
      "display_name": "Python 3"
    },
    "language_info": {
      "name": "python"
    }
  },
  "cells": [
    {
      "cell_type": "markdown",
      "metadata": {
        "id": "view-in-github",
        "colab_type": "text"
      },
      "source": [
        "<a href=\"https://colab.research.google.com/github/blessingaliu/pythonNotes/blob/main/PythonBootcampDay2.ipynb\" target=\"_parent\"><img src=\"https://colab.research.google.com/assets/colab-badge.svg\" alt=\"Open In Colab\"/></a>"
      ]
    },
    {
      "cell_type": "markdown",
      "source": [
        "This is Python Bootcamp Day 2:\n",
        "\n",
        "Fundamentals of Python with Syntax, User Input and Lists"
      ],
      "metadata": {
        "id": "gwTPHWMYXHxR"
      }
    },
    {
      "cell_type": "code",
      "source": [
        "# Ask user to enter number, stores the number in a variable, add 2 to that number \n",
        "# and then store the result in the same variable and save it to the variable \n",
        "\n",
        "number = int(input('Enter a number:'))\n",
        "number = number + 2\n",
        "print(number)"
      ],
      "metadata": {
        "colab": {
          "base_uri": "https://localhost:8080/"
        },
        "id": "vmN3LkBDXhUY",
        "outputId": "4bb81584-bc9a-4511-e711-ffecd74f8926"
      },
      "execution_count": null,
      "outputs": [
        {
          "output_type": "stream",
          "name": "stdout",
          "text": [
            "Enter a number:8\n",
            "10\n"
          ]
        }
      ]
    },
    {
      "cell_type": "code",
      "source": [
        "# User should input name and age, print out users age in Dog years in the following format below\n",
        "# Hello [name], you are [age in dog years] years old, in Dog years\n",
        "\n",
        "name = input('Enter your name: ')\n",
        "age = int(input('Enter your age: '))\n",
        "dog_years = age / 15\n",
        "\n",
        "print(f\"Hello {name}, you are {dog_years} years old, in Dog years\")"
      ],
      "metadata": {
        "colab": {
          "base_uri": "https://localhost:8080/"
        },
        "id": "05K-O76WZklH",
        "outputId": "b9ec54e5-046f-46ef-ce97-92f4e3fc39e1"
      },
      "execution_count": null,
      "outputs": [
        {
          "output_type": "stream",
          "name": "stdout",
          "text": [
            "Enter your name: blessing\n",
            "Enter your age: 10\n",
            "Hello blessing, you are 0.6666666666666666 years old, in Dog years\n"
          ]
        }
      ]
    },
    {
      "cell_type": "code",
      "source": [
        "# Calculate the area of a football field and its parameter\n",
        "\n",
        "length_of_field = int(input('Please enter the length: '))\n",
        "width_of_field = int(input('Please enter the width: '))\n",
        "\n",
        "calculate_area = length_of_field * width_of_field \n",
        "perimeter = (length_of_field*2) + (width_of_field*2)\n",
        "\n",
        "print(calculate_area)\n",
        "print(perimeter)"
      ],
      "metadata": {
        "colab": {
          "base_uri": "https://localhost:8080/"
        },
        "id": "5uTcrStIfMTY",
        "outputId": "ef3794d3-0c44-4e0f-ab14-4d83bf557906"
      },
      "execution_count": null,
      "outputs": [
        {
          "output_type": "stream",
          "name": "stdout",
          "text": [
            "Please enter the length: 10\n",
            "Please enter the width: 10\n",
            "100\n",
            "40\n"
          ]
        }
      ]
    },
    {
      "cell_type": "code",
      "source": [
        "# Creating a list and printing it \n",
        "names = ['David', 'Blessing', 'Sarah', 'Dayo']\n",
        "print(names)"
      ],
      "metadata": {
        "colab": {
          "base_uri": "https://localhost:8080/"
        },
        "id": "xiUN0Tf2wpZW",
        "outputId": "51019b16-c609-427f-92b9-a5bddefaf768"
      },
      "execution_count": null,
      "outputs": [
        {
          "output_type": "stream",
          "name": "stdout",
          "text": [
            "['David', 'Blessing', 'Sarah', 'Dayo']\n"
          ]
        }
      ]
    },
    {
      "cell_type": "code",
      "source": [
        "# Copying a list\n",
        "names_2 = names.copy()\n",
        "print(names_2)"
      ],
      "metadata": {
        "colab": {
          "base_uri": "https://localhost:8080/"
        },
        "id": "HEYd0i6Gwut9",
        "outputId": "0cd3fd24-188b-4daa-d9d6-0bdd74fdd45d"
      },
      "execution_count": null,
      "outputs": [
        {
          "output_type": "stream",
          "name": "stdout",
          "text": [
            "['David', 'Blessing', 'Sarah', 'Dayo']\n"
          ]
        }
      ]
    },
    {
      "cell_type": "code",
      "source": [
        "# Counting the number of the specified item in a list\n",
        "names.count('Blessing')\n"
      ],
      "metadata": {
        "colab": {
          "base_uri": "https://localhost:8080/"
        },
        "id": "7LR4pbQsxBRy",
        "outputId": "8d56f550-ae06-4dc2-977c-75150abcccb8"
      },
      "execution_count": null,
      "outputs": [
        {
          "output_type": "execute_result",
          "data": {
            "text/plain": [
              "1"
            ]
          },
          "metadata": {},
          "execution_count": 19
        }
      ]
    },
    {
      "cell_type": "code",
      "source": [
        "# Checking the index of the specified item in a list\n",
        "names.index('David')"
      ],
      "metadata": {
        "colab": {
          "base_uri": "https://localhost:8080/"
        },
        "id": "BSkNZSpOxkjq",
        "outputId": "dea9bf3d-7b32-4232-fd15-7fc26f90dab4"
      },
      "execution_count": null,
      "outputs": [
        {
          "output_type": "execute_result",
          "data": {
            "text/plain": [
              "0"
            ]
          },
          "metadata": {},
          "execution_count": 20
        }
      ]
    },
    {
      "cell_type": "code",
      "source": [
        "# Adding two lists together using extend\n",
        "names = ['David', 'Blessing', 'Sarah', 'Dayo']\n",
        "new_elements = ['Bayo', 'James', 'Solomon']\n",
        "names.extend(new_elements)\n",
        "print(names)\n"
      ],
      "metadata": {
        "colab": {
          "base_uri": "https://localhost:8080/"
        },
        "id": "MulP0-eDzMoR",
        "outputId": "bcd0c93b-e55a-4bfd-d389-32e95494a09e"
      },
      "execution_count": null,
      "outputs": [
        {
          "output_type": "stream",
          "name": "stdout",
          "text": [
            "['David', 'Blessing', 'Sarah', 'Dayo', 'Bayo', 'James', 'Solomon']\n"
          ]
        }
      ]
    },
    {
      "cell_type": "code",
      "source": [
        "# Adding a new item to the list using append \n",
        "names.append('Toye')\n",
        "print(names)"
      ],
      "metadata": {
        "colab": {
          "base_uri": "https://localhost:8080/"
        },
        "id": "46WyR5Y6zaeF",
        "outputId": "d229d5fb-94ce-4b96-93f5-a360bfa568c9"
      },
      "execution_count": null,
      "outputs": [
        {
          "output_type": "stream",
          "name": "stdout",
          "text": [
            "['David', 'Blessing', 'Sarah', 'Dayo', 'Joe', 'Bayo', 'James', 'Solomon', 'Toye', 'Toye']\n"
          ]
        }
      ]
    },
    {
      "cell_type": "code",
      "source": [
        "# Inserting a item at a specific index of the list using insert\n",
        "names.insert(4, 'Joe')\n",
        "print(names)"
      ],
      "metadata": {
        "id": "9AoaiDZYzl3x",
        "colab": {
          "base_uri": "https://localhost:8080/"
        },
        "outputId": "e59d13ee-99d9-4025-a222-81044677ba21"
      },
      "execution_count": null,
      "outputs": [
        {
          "output_type": "stream",
          "name": "stdout",
          "text": [
            "['David', 'Blessing', 'Sarah', 'Dayo', 'Joe', 'Joe', 'Bayo', 'James', 'Solomon', 'Toye', 'Toye']\n"
          ]
        }
      ]
    },
    {
      "cell_type": "code",
      "source": [
        "# Removing an item at a specified index\n",
        "names = ['David', 'Blessing', 'Sarah', 'Dayo', 'Joe', 'Joe', 'Bayo', 'James', 'Solomon', 'Toye', 'Toye']\n",
        "names.pop(2)"
      ],
      "metadata": {
        "colab": {
          "base_uri": "https://localhost:8080/",
          "height": 35
        },
        "id": "h8BFeCYuz1mC",
        "outputId": "ec4278b6-008e-4742-e650-fadc64054a3a"
      },
      "execution_count": null,
      "outputs": [
        {
          "output_type": "execute_result",
          "data": {
            "text/plain": [
              "'Sarah'"
            ],
            "application/vnd.google.colaboratory.intrinsic+json": {
              "type": "string"
            }
          },
          "metadata": {},
          "execution_count": 9
        }
      ]
    },
    {
      "cell_type": "code",
      "source": [
        "# Removing a specified element from the list\n",
        "names.remove('Blessing')\n"
      ],
      "metadata": {
        "id": "vA56LetBz8l8"
      },
      "execution_count": null,
      "outputs": []
    },
    {
      "cell_type": "code",
      "source": [
        "# Clearing the list completely, you will end up with an empty array \n",
        "names.clear()\n",
        "print(names)"
      ],
      "metadata": {
        "colab": {
          "base_uri": "https://localhost:8080/"
        },
        "id": "SjbaM5-A0QNV",
        "outputId": "34f784db-5a12-4f88-cd46-604df746e1f4"
      },
      "execution_count": null,
      "outputs": [
        {
          "output_type": "stream",
          "name": "stdout",
          "text": [
            "[]\n"
          ]
        }
      ]
    },
    {
      "cell_type": "code",
      "source": [
        "names = ['David', 'Blessing', 'Sarah', 'Dayo']"
      ],
      "metadata": {
        "id": "oOw6eR4x0R4v"
      },
      "execution_count": null,
      "outputs": []
    },
    {
      "cell_type": "code",
      "source": [
        "# Reversing the list\n",
        "names.reverse()\n",
        "print(names)"
      ],
      "metadata": {
        "colab": {
          "base_uri": "https://localhost:8080/"
        },
        "id": "M9kXknne0fmM",
        "outputId": "e382e506-cf6c-410e-bf60-51bb0b85bd06"
      },
      "execution_count": null,
      "outputs": [
        {
          "output_type": "stream",
          "name": "stdout",
          "text": [
            "['Dayo', 'Sarah', 'Blessing', 'David']\n"
          ]
        }
      ]
    },
    {
      "cell_type": "code",
      "source": [
        "# Sorting the list\n",
        "names.sort()\n",
        "print(names)"
      ],
      "metadata": {
        "colab": {
          "base_uri": "https://localhost:8080/"
        },
        "id": "k2xoWFcM0hUW",
        "outputId": "33554da4-7a3e-42a6-b85d-2d95e5a35f67"
      },
      "execution_count": null,
      "outputs": [
        {
          "output_type": "stream",
          "name": "stdout",
          "text": [
            "['Bayo', 'David', 'Dayo', 'James', 'Joe', 'Joe', 'Solomon', 'Toye', 'Toye']\n"
          ]
        }
      ]
    }
  ]
}